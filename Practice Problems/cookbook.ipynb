{
 "cells": [
  {
   "cell_type": "markdown",
   "metadata": {},
   "source": [
    "# Cookbook Problems"
   ]
  },
  {
   "cell_type": "code",
   "execution_count": null,
   "metadata": {},
   "outputs": [],
   "source": [
    "import pandas as pd\n",
    "from itertools import combinations\n",
    "\n",
    "cookbook = pd.read_csv(\"recipes.csv\")"
   ]
  },
  {
   "cell_type": "markdown",
   "metadata": {},
   "source": [
    "1) Write a function that allows the user to interact with their cookbook. This function should take in the cookbook and a recipe name as arguments. It should then return the corresponding style, ingredients and their quantities, servings, cook time and calories. If the user enters a recipe that is not in their cookbook, print out a message to let them know. \n",
    "\n",
    "<br>\n",
    "\n",
    "For example, if a user enters the recipe \"Grilled Cheese Sandwhich\" the function should return:\n",
    "\n",
    "Grilled Cheese Sandwhich\n",
    "\n",
    "4 slices white bread\n",
    "\n",
    "3 tablespoons butter\n",
    "\n",
    "2 slices cheddar cheese\n",
    "\n",
    "Cook time: 20 mins\n",
    "\n",
    "... etc.\n",
    "\n"
   ]
  },
  {
   "cell_type": "code",
   "execution_count": 23,
   "metadata": {},
   "outputs": [],
   "source": [
    "def get_recipe(df, recipe):\n",
    "    #checks a cookbook (dataframe) to see whether a recipe (string value) is in the cookbook and\n",
    "    #outputs instructions and characteristics of the recipe if found\n",
    "    \n",
    "    #finds value associated with inputed recipe value\n",
    "    recipe_info = df[df[\"Recipe\"] == recipe]\n",
    "    \n",
    "    #if value is not found, output message saying its not in the cookbook\n",
    "    if len(recipe_info) == 0:\n",
    "        print(\"Sorry, the recipe for \" + recipe + \" is not in this cookbook.\")\n",
    "        return\n",
    "    \n",
    "    #otherwise, print recipe information\n",
    "    else:\n",
    "        #create list of recipe and append characteristics\n",
    "        L = [recipe]\n",
    "        ingredients = recipe_info[\"Quantity\"] + \" \" + recipe_info[\"Ingredient\"]\n",
    "        for i in ingredients:\n",
    "            L.append(i)\n",
    "        cook_time = recipe_info[\"Cook Time\"][1]\n",
    "        L.append(\"Cook Time: \" + cook_time)\n",
    "        calories = recipe_info[\"Calories per Serving\"][1]\n",
    "        L.append(\"Calories per Serving: \" + str(calories))\n",
    "        servings = recipe_info[\"Servings\"][1]\n",
    "        L.append(\"Servings: \" + str(servings))\n",
    "        style = recipe_info[\"Style\"][1]\n",
    "        L.append(\"Style: \" + str(style))\n",
    "        #print recipe and its characteristics on separate lines\n",
    "        for i in L:\n",
    "            print(i)"
   ]
  },
  {
   "cell_type": "code",
   "execution_count": 24,
   "metadata": {},
   "outputs": [
    {
     "name": "stdout",
     "output_type": "stream",
     "text": [
      "Test 1\n",
      "Grilled Cheese Sandwich\n",
      "4 slices white bread\n",
      "3 tablespoons butter\n",
      "2 slices Cheddar cheese\n",
      "Cook Time: 20 mins\n",
      "Calories per Serving: 400\n",
      "Servings: 2\n",
      "Style: American\n"
     ]
    }
   ],
   "source": [
    "#testing\n",
    "print(\"Test 1\")\n",
    "get_recipe(cookbook, \"Grilled Cheese Sandwich\")"
   ]
  },
  {
   "cell_type": "code",
   "execution_count": 25,
   "metadata": {},
   "outputs": [
    {
     "name": "stdout",
     "output_type": "stream",
     "text": [
      "Test 2\n",
      "Sorry, the recipe for Hamburger is not in this cookbook.\n"
     ]
    }
   ],
   "source": [
    "print(\"Test 2\")\n",
    "get_recipe(cookbook, \"Hamburger\")"
   ]
  },
  {
   "cell_type": "markdown",
   "metadata": {},
   "source": [
    "2) Write a function that will ask your user to enter the name of the recipe, the style, the ingredients and their quantites, the number of servings, the cook time, and the calories per serving. Here, we assume the users will alway provide the required information in the correct format and data type. Then, add this information to the `cookbook` dataframe or dictionary. "
   ]
  },
  {
   "cell_type": "code",
   "execution_count": 26,
   "metadata": {},
   "outputs": [],
   "source": [
    "def add_recipe(cookbook):\n",
    "    #Takes in a cookbook (dataframe) and allows the user input a recipe and its ingredients,\n",
    "    #quantities, cook time, number of servings, calories and style which will be added to the cookbook\n",
    "    \n",
    "    #saves users inputed recipe\n",
    "    recipe = input(\"Please enter the name of the recipe: \")\n",
    "    \n",
    "    #appends all ingredients and their quantities inputed by user into a list\n",
    "    ingredients = []\n",
    "    quantities = []\n",
    "    num = input(\"How many ingredients are in \" + recipe + \"? \")\n",
    "    num = int(num)\n",
    "    for i in range(num):\n",
    "        A = input(\"Please enter the next ingredient in the recipe: \")\n",
    "        ingredients.append(A)\n",
    "        B = input(\"How much \" + A + \" is required for the recipe? \")\n",
    "        quantities.append(B)\n",
    "    \n",
    "    #saves users cook time, number of servings, calories and style\n",
    "    cook_time = input(\"How long does it take to make \" + recipe + \"? \")\n",
    "    num_servings = input(\"How many servings does this recipe for \" + recipe + \" make? \")\n",
    "    calories = input(\"How many calories per serving? \")\n",
    "    style = input(\"What style of food is \" + recipe + \"? \")\n",
    "    \n",
    "    #creates a data frame with the new recipe\n",
    "    df_recipe = pd.DataFrame({'Recipe': recipe, 'Style': style, 'Ingredient': ingredients,\n",
    "                            'Quantity':quantities, 'Servings': num_servings,\n",
    "                            'Cook Time': cook_time, 'Calories per Serving': calories })\n",
    "    \n",
    "    #appends new recipe data frame to the cookbook\n",
    "    cookbook = cookbook.append(df_recipe)\n",
    "    cookbook.reset_index(drop = True)\n",
    "    return(cookbook)"
   ]
  },
  {
   "cell_type": "code",
   "execution_count": 27,
   "metadata": {},
   "outputs": [
    {
     "name": "stdout",
     "output_type": "stream",
     "text": [
      "Please enter the name of the recipe: Oatmeal\n",
      "How many ingredients are in Oatmeal? 3\n",
      "Please enter the next ingredient in the recipe: oats\n",
      "How much oats is required for the recipe? 1 cup\n",
      "Please enter the next ingredient in the recipe: milk\n",
      "How much milk is required for the recipe? 2 cups\n",
      "Please enter the next ingredient in the recipe: brown sugar\n",
      "How much brown sugar is required for the recipe? 1 tablespoon\n",
      "How long does it take to make Oatmeal? 5 min\n",
      "How many servings does this recipe for Oatmeal make? 2\n",
      "How many calories per serving? 250\n",
      "What style of food is Oatmeal? American\n",
      "Oatmeal\n",
      "1 cup oats\n",
      "2 cups milk\n",
      "1 tablespoon brown sugar\n",
      "Cook Time: 5 min\n",
      "Calories per Serving: 250\n",
      "Servings: 2\n",
      "Style: American\n"
     ]
    }
   ],
   "source": [
    "#testing\n",
    "new_cookbook = add_recipe(cookbook)\n",
    "#use function created a above to verify recipe was added to the cookbook\n",
    "get_recipe(new_cookbook, \"Oatmeal\")"
   ]
  },
  {
   "cell_type": "markdown",
   "metadata": {},
   "source": [
    "3) You should ask the user to enter the ingredients they have in their kitchen separated by commas, like so: \"milk, eggs, cinnamon, flour, baking soda\". The user doesn't need to enter quantities. Then, write a function with parameters\n",
    "\n",
    "* `kitchen_ingredients`: the ingredients the user has on-hand in their kitchen\n",
    "* `cookbook` \n",
    "\n",
    "that simply returns all of the recipes that include ingredients the user entered, and ONLY those ingredients or a subset of those ingredients. Don't return recipes that require additional ingredients not included in the user's input. If none of the recipes meet the requirement, print out a message to let them know. "
   ]
  },
  {
   "cell_type": "code",
   "execution_count": 28,
   "metadata": {},
   "outputs": [],
   "source": [
    "def suggest_recipes(cookbook, kitchen_ingredients):\n",
    "    #Checks a list of ingredients and suggest recipes from the cookbook (dataframe) that\n",
    "    #have all their ingredients in the provided list\n",
    "    \n",
    "    #create list of kitchen ingredients entered and an empty list for recipe suggestions\n",
    "    kitchen_ingredients = kitchen_ingredients.split(\", \")\n",
    "    recipes_to_suggest = []\n",
    "    \n",
    "    #find unique recipes to iterate over\n",
    "    recipes = cookbook['Recipe'].unique()\n",
    "    for recipe in recipes:\n",
    "        count = 0\n",
    "        \n",
    "        #iterate over all the ingredients in each recipe\n",
    "        recipe_ingreds = cookbook[cookbook['Recipe'] == recipe]['Ingredient']\n",
    "        \n",
    "        #check if all the ingredients are in the provided list\n",
    "        for ingred in recipe_ingreds:\n",
    "            if ingred not in kitchen_ingredients:\n",
    "                break\n",
    "            else:\n",
    "                count += 1\n",
    "        #add recipe to list of suggestions if all ingredients are found\n",
    "        if count == len(recipe_ingreds):\n",
    "            recipes_to_suggest.append(recipe)\n",
    "    \n",
    "    #return suggestions or let user know that no suggestions were found\n",
    "    if len(recipes_to_suggest):\n",
    "        return(recipes_to_suggest) \n",
    "    else:\n",
    "        return(\"You do not have all the ingredients necessary to make any recipes in this cookbook.\")"
   ]
  },
  {
   "cell_type": "code",
   "execution_count": 29,
   "metadata": {},
   "outputs": [
    {
     "name": "stdout",
     "output_type": "stream",
     "text": [
      "Test 1\n",
      "Please enter the ingredients in your kitchen seperated by commas:white bread, Cheddar cheese, milk, butter\n",
      "['Grilled Cheese Sandwich']\n"
     ]
    }
   ],
   "source": [
    "#testing\n",
    "print(\"Test 1\")\n",
    "ingredients1 = input(\"Please enter the ingredients in your kitchen seperated by commas:\")\n",
    "print(suggest_recipes(cookbook, ingredients1))"
   ]
  },
  {
   "cell_type": "code",
   "execution_count": 30,
   "metadata": {},
   "outputs": [
    {
     "name": "stdout",
     "output_type": "stream",
     "text": [
      "Test 2\n",
      "Please enter the ingredients in your kitchen seperated by commas:white bread, butter, Cheddar cheese, dashi granules, miso paste, silken tofu\n",
      "['Grilled Cheese Sandwich', 'Miso Soup']\n"
     ]
    }
   ],
   "source": [
    "print(\"Test 2\")\n",
    "ingredients2 = input(\"Please enter the ingredients in your kitchen seperated by commas:\")\n",
    "print(suggest_recipes(cookbook, ingredients2))"
   ]
  },
  {
   "cell_type": "code",
   "execution_count": 31,
   "metadata": {},
   "outputs": [
    {
     "name": "stdout",
     "output_type": "stream",
     "text": [
      "Test 3\n",
      "Please enter the ingredients in your kitchen seperated by commas:onions, butter, soy sauce\n",
      "You do not have all the ingredients necessary to make any recipes in this cookbook.\n"
     ]
    }
   ],
   "source": [
    "print(\"Test 3\")\n",
    "ingredients3 = input(\"Please enter the ingredients in your kitchen seperated by commas:\")\n",
    "print(suggest_recipes(cookbook, ingredients3))"
   ]
  },
  {
   "cell_type": "markdown",
   "metadata": {},
   "source": [
    "4）Write a function that informs the total calories of the recipes selected by the users. The user will need to specify any number of recipes as they desire and the function will return the summative calories of these recipes. Say, the user may input \"Bulgogi\", \"Miso Soup\", and \"Paratha\". The function will inform the user with the total calories to be 646. If the user input nothing, print out a message to let them know."
   ]
  },
  {
   "cell_type": "code",
   "execution_count": 2,
   "metadata": {},
   "outputs": [],
   "source": [
    "def calorie_counter(cookbook):\n",
    "    #Takes in a cookbook (dataframe) and recipes inputed by the user and calculates the total calories \n",
    "    #per serving for all the recipes combined\n",
    "    \n",
    "    #getting user recipe inputs\n",
    "    recipes = input(\"Please enter the recipes in which you would like to count the total calories per serving separated by a comma: \")\n",
    "    recipes = recipes.split(\", \")\n",
    "    \n",
    "    #ensuring the user inputs a recipe otherwise let them know they did not input anything\n",
    "    if recipes == ['']:\n",
    "        return(\"You have not selected any recipes.\")\n",
    "    \n",
    "    #iterate over recipes, get their calories per serving and add them all together\n",
    "    total_calories = 0\n",
    "    for recipe in recipes:\n",
    "        try:\n",
    "            calories = cookbook[cookbook['Recipe'] == recipe]['Calories per Serving'].unique()[0]\n",
    "            total_calories += calories\n",
    "        \n",
    "        #if a input recipe is not in the cookbook, inform the user\n",
    "        except:\n",
    "            return(\"One or more of the recipes you entered is not in the cookbook.\")\n",
    "    else:\n",
    "        return(\"The total calories per serving for the selected recipes is \" + str(total_calories) + \".\")"
   ]
  },
  {
   "cell_type": "code",
   "execution_count": 3,
   "metadata": {},
   "outputs": [
    {
     "name": "stdout",
     "output_type": "stream",
     "text": [
      "Please enter the recipes in which you would like to count the total calories per serving separated by a comma: Bulgogi, Miso Soup, Paratha\n",
      "The total calories per serving for the selected recipes is 646.\n"
     ]
    }
   ],
   "source": [
    "#testing\n",
    "test1 = calorie_counter(cookbook)\n",
    "print(test1)"
   ]
  },
  {
   "cell_type": "code",
   "execution_count": 4,
   "metadata": {},
   "outputs": [
    {
     "name": "stdout",
     "output_type": "stream",
     "text": [
      "Please enter the recipes in which you would like to count the total calories per serving separated by a comma: \n",
      "You have not selected any recipes.\n"
     ]
    }
   ],
   "source": [
    "test2 = calorie_counter(cookbook)\n",
    "print(test2)"
   ]
  },
  {
   "cell_type": "code",
   "execution_count": 5,
   "metadata": {},
   "outputs": [
    {
     "name": "stdout",
     "output_type": "stream",
     "text": [
      "Please enter the recipes in which you would like to count the total calories per serving separated by a comma: Miso Soup, Garlic Bread\n",
      "One or more of the recipes you entered is not in the cookbook.\n"
     ]
    }
   ],
   "source": [
    "test3 = calorie_counter(cookbook)\n",
    "print(test3)"
   ]
  },
  {
   "cell_type": "markdown",
   "metadata": {},
   "source": [
    "5）Write a function that informs different combinations of recipes that meet the user's\n",
    "requirement on the calories intake. The user will need to specify the total calories intake and the number of recipes. The function should list all the possible combinations of recipes with their summative calories equal to or less than the target calories intake. For example, the user may indicate the total calories to be 520 with 3 recipes. The function will return a recipe combo to be \"Gambas al Ajillo\", \"Bulgogi\", \"Miso Soup\". If none of the recipe combo meet the requirement, print out a message to let them know."
   ]
  },
  {
   "cell_type": "code",
   "execution_count": 6,
   "metadata": {},
   "outputs": [],
   "source": [
    "def suggest_calorie_combos(cookbook):\n",
    "    #Takes in a cookbook (dataframe) and user input of number of recipes and calorie limit and outputs\n",
    "    #suggested recipe combinations for the number of recipes input that are under the calorie limit input\n",
    "    \n",
    "    #getting user inputs\n",
    "    num = input(\"Please enter the number of recipes you would like to create: \")\n",
    "    try:\n",
    "        num = int(num)\n",
    "    #return message if the user did not properly input a number\n",
    "    except:\n",
    "        return(\"The input you entered for number of recipes not a number. Please try again and enter a number.\")\n",
    "    max_calories = input(\"Please enter the maximum number of calories per servings you would like to consume: \")\n",
    "    try:\n",
    "        max_calories = int(max_calories)\n",
    "    #return message if the user did not properly input a number\n",
    "    except:\n",
    "        return(\"The input you entered for calories is not a number. Please try again and enter a number.\")\n",
    "    \n",
    "    suggested_combos = []\n",
    "    recipes = [i for i in cookbook['Recipe'].unique()]\n",
    "    #create all possible combinations of recipes in the cookbook of number of recipes user inputs\n",
    "    for i in range(1, len(recipes) + 1):\n",
    "        recipe_combos = list(combinations(recipes, num))\n",
    "    #calculate total calories per serving for all recipes in the combination\n",
    "    for combo in recipe_combos:\n",
    "        calories_combo = 0\n",
    "        for recipe in combo:\n",
    "            calories = cookbook[cookbook['Recipe'] == recipe]['Calories per Serving'].unique()[0]\n",
    "            calories_combo += calories\n",
    "        #append recipe combination to suggestion list if it is under the user's calorie limit\n",
    "        if calories_combo <= max_calories:\n",
    "            suggested_combos.append(combo)\n",
    "            \n",
    "    #Let user know if there are no recipe combinations under their calorie limit\n",
    "    if len(suggested_combos) == 0:\n",
    "        print(\"There are no possible recipe combinations to stay under your calorie limit.\")\n",
    "    #print recipe combination suggestions for user\n",
    "    else:\n",
    "        print(\"Some possible recipe combinations to stay under your calorie limit are as follows:\")\n",
    "        for suggestion in suggested_combos:\n",
    "            print(*suggestion, sep = \", \")"
   ]
  },
  {
   "cell_type": "code",
   "execution_count": 7,
   "metadata": {},
   "outputs": [
    {
     "name": "stdout",
     "output_type": "stream",
     "text": [
      "Please enter the number of recipes you would like to create: 3\n",
      "Please enter the maximum number of calories per servings you would like to consume: 520\n",
      "Some possible recipe combinations to stay under your calorie limit are as follows:\n",
      "Bulgogi, Gambas al Ajillo, Miso Soup\n"
     ]
    }
   ],
   "source": [
    "#testing                        \n",
    "suggest_calorie_combos(cookbook) "
   ]
  },
  {
   "cell_type": "code",
   "execution_count": 8,
   "metadata": {},
   "outputs": [
    {
     "name": "stdout",
     "output_type": "stream",
     "text": [
      "Please enter the number of recipes you would like to create: 3\n",
      "Please enter the maximum number of calories per servings you would like to consume: 250\n",
      "There are no possible recipe combinations to stay under your calorie limit.\n"
     ]
    }
   ],
   "source": [
    "suggest_calorie_combos(cookbook) "
   ]
  },
  {
   "cell_type": "code",
   "execution_count": 9,
   "metadata": {},
   "outputs": [
    {
     "name": "stdout",
     "output_type": "stream",
     "text": [
      "Please enter the number of recipes you would like to create: four\n"
     ]
    },
    {
     "data": {
      "text/plain": [
       "'The input you entered for number of recipes not a number. Please try again and enter a number.'"
      ]
     },
     "execution_count": 9,
     "metadata": {},
     "output_type": "execute_result"
    }
   ],
   "source": [
    "suggest_calorie_combos(cookbook) "
   ]
  },
  {
   "cell_type": "code",
   "execution_count": 10,
   "metadata": {},
   "outputs": [
    {
     "name": "stdout",
     "output_type": "stream",
     "text": [
      "Please enter the number of recipes you would like to create: 3\n",
      "Please enter the maximum number of calories per servings you would like to consume: two hundred\n"
     ]
    },
    {
     "data": {
      "text/plain": [
       "'The input you entered for calories is not a number. Please try again and enter a number.'"
      ]
     },
     "execution_count": 10,
     "metadata": {},
     "output_type": "execute_result"
    }
   ],
   "source": [
    "suggest_calorie_combos(cookbook)"
   ]
  },
  {
   "cell_type": "markdown",
   "metadata": {},
   "source": [
    "6）Write a function that informs the total servings of the recipes selected by the user. The user will need to specify any number of recipes as they desire and the function will return the summative servings of these recipes assuming the servings of different recipes are additive. Say, the user may input ``\"Bulgogi\", \"Miso Soup\", and \"Paratha\"``. The function will inform the user with the total servings to be ``18``. If the user input nothing, print out a message to indicate 0 servings. "
   ]
  },
  {
   "cell_type": "code",
   "execution_count": 11,
   "metadata": {},
   "outputs": [],
   "source": [
    "def servings_counter(cookbook):\n",
    "    #Takes in a cookbook (dataframe) and recipes inputed by the user and calculates the total servings \n",
    "    #for all the recipes combined\n",
    "    \n",
    "    #getting user recipe inputs\n",
    "    recipes = input(\"Please enter the recipes in which you would like to count the total number of servings separated by a comma: \")\n",
    "    recipes = recipes.split(\", \")\n",
    "    \n",
    "    #ensuring the user inputs a recipe otherwise let them know they did not input anything\n",
    "    if recipes == ['']:\n",
    "        return(\"You have not selected any recipes, therefore there are 0 servings.\")\n",
    "    \n",
    "    #iterate over recipes, get their servings and add them all together\n",
    "    total_servings = 0\n",
    "    for recipe in recipes:\n",
    "        try:\n",
    "            servings = cookbook[cookbook['Recipe'] == recipe]['Servings'].unique()[0]\n",
    "            total_servings += servings\n",
    "        \n",
    "        #if a input recipe is not in the cookbook, inform the user\n",
    "        except:\n",
    "            return(\"One or more of the recipes you entered is not in the cookbook.\")\n",
    "    else:\n",
    "        return(\"The total number of servings for the selected recipes is \" + str(total_servings) + \".\")"
   ]
  },
  {
   "cell_type": "code",
   "execution_count": 12,
   "metadata": {},
   "outputs": [
    {
     "name": "stdout",
     "output_type": "stream",
     "text": [
      "Please enter the recipes in which you would like to count the total number of servings separated by a comma: Bulgogi, Miso Soup, Paratha\n",
      "The total number of servings for the selected recipes is 18.\n"
     ]
    }
   ],
   "source": [
    "#testing\n",
    "test1 = servings_counter(cookbook)\n",
    "print(test1)"
   ]
  },
  {
   "cell_type": "code",
   "execution_count": 13,
   "metadata": {},
   "outputs": [
    {
     "name": "stdout",
     "output_type": "stream",
     "text": [
      "Please enter the recipes in which you would like to count the total number of servings separated by a comma: \n",
      "You have not selected any recipes, therefore there are 0 servings.\n"
     ]
    }
   ],
   "source": [
    "test2 = servings_counter(cookbook)\n",
    "print(test2)"
   ]
  },
  {
   "cell_type": "code",
   "execution_count": 14,
   "metadata": {},
   "outputs": [
    {
     "name": "stdout",
     "output_type": "stream",
     "text": [
      "Please enter the recipes in which you would like to count the total number of servings separated by a comma: Miso Soup, Garlic Bread\n",
      "One or more of the recipes you entered is not in the cookbook.\n"
     ]
    }
   ],
   "source": [
    "test3 = servings_counter(cookbook)\n",
    "print(test3)"
   ]
  },
  {
   "cell_type": "markdown",
   "metadata": {},
   "source": [
    "7）Write a function that informs a list of combinations of recipes that meet the user's requirement on the servings. The user will need to specify the total servings and the number of recipes. The function should list all the possible combinations of recipes with their summative servings equal to or more than the user's target servings, assuming the servings are additive. For example, the user may indicate the total servings to be ``20`` with ``3`` recipes. The function will return a recipe combo to be ``[\"Bulgogi\", \"Gourmet Mushroom Risotto\", \"Paratha\"]``. If none of the recipe combinations meet the requirement, print out a warning message."
   ]
  },
  {
   "cell_type": "code",
   "execution_count": 15,
   "metadata": {},
   "outputs": [],
   "source": [
    "def suggest_servings_combos(cookbook):\n",
    "    #Takes in a cookbook (dataframe) and user input of number of recipes and servings limit and outputs\n",
    "    #suggested recipe combinations for the number of recipes input that are under the servings limit input\n",
    "    \n",
    "    #getting user inputs\n",
    "    num = input(\"Please enter the number of recipes you would like to create: \")\n",
    "    try:\n",
    "        num = int(num)\n",
    "    #return message if the user did not properly input a number\n",
    "    except:\n",
    "        return(\"The input you entered for number of recipes not a number. Please try again and enter a number.\")\n",
    "    max_servings = input(\"Please enter the maximum number of servings you would like to make: \")\n",
    "    try:\n",
    "        max_servings = int(max_servings)\n",
    "    #return message if the user did not properly input a number\n",
    "    except:\n",
    "        return(\"The input you entered for servings is not a number. Please try again and enter a number.\")\n",
    "    \n",
    "    suggested_combos = []\n",
    "    recipes = [i for i in cookbook['Recipe'].unique()]\n",
    "    #create all possible combinations of recipes in the cookbook of number of recipes user inputs\n",
    "    for i in range(1, len(recipes) + 1):\n",
    "        recipe_combos = list(combinations(recipes, num))\n",
    "    #calculate total servings for all recipes in the combination\n",
    "    for combo in recipe_combos:\n",
    "        servings_combo = 0\n",
    "        for recipe in combo:\n",
    "            servings = cookbook[cookbook['Recipe'] == recipe]['Servings'].unique()[0]\n",
    "            servings_combo += servings\n",
    "        #append recipe combination to suggestion list if it is under the user's servings limit\n",
    "        if servings_combo <= max_servings:\n",
    "            suggested_combos.append(combo)\n",
    "            \n",
    "    #Let user know if there are no recipe combinations under their servings limit\n",
    "    if len(suggested_combos) == 0:\n",
    "        print(\"There are no possible recipe combinations to stay under your servings limit.\")\n",
    "    #print recipe combination suggestions for user\n",
    "    else:\n",
    "        print(\"Some possible recipe combinations to stay under your servings limit are as follows:\")\n",
    "        for suggestion in suggested_combos:\n",
    "            print(*suggestion, sep = \", \")"
   ]
  },
  {
   "cell_type": "code",
   "execution_count": 16,
   "metadata": {},
   "outputs": [
    {
     "name": "stdout",
     "output_type": "stream",
     "text": [
      "Please enter the number of recipes you would like to create: 3\n",
      "Please enter the maximum number of servings you would like to make: 20\n",
      "Some possible recipe combinations to stay under your servings limit are as follows:\n",
      "Grilled Cheese Sandwich, Bulgogi, Gambas al Ajillo\n",
      "Grilled Cheese Sandwich, Bulgogi, Miso Soup\n",
      "Grilled Cheese Sandwich, Bulgogi, Gourmet Mushroom Risotto\n",
      "Grilled Cheese Sandwich, Bulgogi, Shrimp Fried Rice\n",
      "Grilled Cheese Sandwich, Bulgogi, Paratha\n",
      "Grilled Cheese Sandwich, Bulgogi, Crème Brûlée\n",
      "Grilled Cheese Sandwich, Bulgogi, Guacamole\n",
      "Grilled Cheese Sandwich, Bulgogi, Khao Neeo Mamuang\n",
      "Grilled Cheese Sandwich, Gambas al Ajillo, Miso Soup\n",
      "Grilled Cheese Sandwich, Gambas al Ajillo, Gourmet Mushroom Risotto\n",
      "Grilled Cheese Sandwich, Gambas al Ajillo, Shrimp Fried Rice\n",
      "Grilled Cheese Sandwich, Gambas al Ajillo, Paratha\n",
      "Grilled Cheese Sandwich, Gambas al Ajillo, Crème Brûlée\n",
      "Grilled Cheese Sandwich, Gambas al Ajillo, Guacamole\n",
      "Grilled Cheese Sandwich, Gambas al Ajillo, Khao Neeo Mamuang\n",
      "Grilled Cheese Sandwich, Miso Soup, Gourmet Mushroom Risotto\n",
      "Grilled Cheese Sandwich, Miso Soup, Shrimp Fried Rice\n",
      "Grilled Cheese Sandwich, Miso Soup, Paratha\n",
      "Grilled Cheese Sandwich, Miso Soup, Crème Brûlée\n",
      "Grilled Cheese Sandwich, Miso Soup, Guacamole\n",
      "Grilled Cheese Sandwich, Miso Soup, Khao Neeo Mamuang\n",
      "Grilled Cheese Sandwich, Gourmet Mushroom Risotto, Shrimp Fried Rice\n",
      "Grilled Cheese Sandwich, Gourmet Mushroom Risotto, Paratha\n",
      "Grilled Cheese Sandwich, Gourmet Mushroom Risotto, Crème Brûlée\n",
      "Grilled Cheese Sandwich, Gourmet Mushroom Risotto, Guacamole\n",
      "Grilled Cheese Sandwich, Gourmet Mushroom Risotto, Khao Neeo Mamuang\n",
      "Grilled Cheese Sandwich, Shrimp Fried Rice, Paratha\n",
      "Grilled Cheese Sandwich, Shrimp Fried Rice, Crème Brûlée\n",
      "Grilled Cheese Sandwich, Shrimp Fried Rice, Guacamole\n",
      "Grilled Cheese Sandwich, Shrimp Fried Rice, Khao Neeo Mamuang\n",
      "Grilled Cheese Sandwich, Paratha, Crème Brûlée\n",
      "Grilled Cheese Sandwich, Paratha, Guacamole\n",
      "Grilled Cheese Sandwich, Paratha, Khao Neeo Mamuang\n",
      "Grilled Cheese Sandwich, Crème Brûlée, Guacamole\n",
      "Grilled Cheese Sandwich, Crème Brûlée, Khao Neeo Mamuang\n",
      "Grilled Cheese Sandwich, Guacamole, Khao Neeo Mamuang\n",
      "Bulgogi, Gambas al Ajillo, Miso Soup\n",
      "Bulgogi, Gambas al Ajillo, Gourmet Mushroom Risotto\n",
      "Bulgogi, Gambas al Ajillo, Shrimp Fried Rice\n",
      "Bulgogi, Gambas al Ajillo, Paratha\n",
      "Bulgogi, Gambas al Ajillo, Crème Brûlée\n",
      "Bulgogi, Gambas al Ajillo, Guacamole\n",
      "Bulgogi, Gambas al Ajillo, Khao Neeo Mamuang\n",
      "Bulgogi, Miso Soup, Gourmet Mushroom Risotto\n",
      "Bulgogi, Miso Soup, Shrimp Fried Rice\n",
      "Bulgogi, Miso Soup, Paratha\n",
      "Bulgogi, Miso Soup, Crème Brûlée\n",
      "Bulgogi, Miso Soup, Guacamole\n",
      "Bulgogi, Miso Soup, Khao Neeo Mamuang\n",
      "Bulgogi, Gourmet Mushroom Risotto, Shrimp Fried Rice\n",
      "Bulgogi, Gourmet Mushroom Risotto, Paratha\n",
      "Bulgogi, Gourmet Mushroom Risotto, Crème Brûlée\n",
      "Bulgogi, Gourmet Mushroom Risotto, Guacamole\n",
      "Bulgogi, Gourmet Mushroom Risotto, Khao Neeo Mamuang\n",
      "Bulgogi, Shrimp Fried Rice, Paratha\n",
      "Bulgogi, Shrimp Fried Rice, Crème Brûlée\n",
      "Bulgogi, Shrimp Fried Rice, Guacamole\n",
      "Bulgogi, Shrimp Fried Rice, Khao Neeo Mamuang\n",
      "Bulgogi, Paratha, Crème Brûlée\n",
      "Bulgogi, Paratha, Guacamole\n",
      "Bulgogi, Paratha, Khao Neeo Mamuang\n",
      "Bulgogi, Crème Brûlée, Guacamole\n",
      "Bulgogi, Crème Brûlée, Khao Neeo Mamuang\n",
      "Bulgogi, Guacamole, Khao Neeo Mamuang\n",
      "Gambas al Ajillo, Miso Soup, Gourmet Mushroom Risotto\n",
      "Gambas al Ajillo, Miso Soup, Shrimp Fried Rice\n",
      "Gambas al Ajillo, Miso Soup, Paratha\n",
      "Gambas al Ajillo, Miso Soup, Crème Brûlée\n",
      "Gambas al Ajillo, Miso Soup, Guacamole\n",
      "Gambas al Ajillo, Miso Soup, Khao Neeo Mamuang\n",
      "Gambas al Ajillo, Gourmet Mushroom Risotto, Shrimp Fried Rice\n",
      "Gambas al Ajillo, Gourmet Mushroom Risotto, Paratha\n",
      "Gambas al Ajillo, Gourmet Mushroom Risotto, Crème Brûlée\n",
      "Gambas al Ajillo, Gourmet Mushroom Risotto, Guacamole\n",
      "Gambas al Ajillo, Gourmet Mushroom Risotto, Khao Neeo Mamuang\n",
      "Gambas al Ajillo, Shrimp Fried Rice, Paratha\n",
      "Gambas al Ajillo, Shrimp Fried Rice, Crème Brûlée\n",
      "Gambas al Ajillo, Shrimp Fried Rice, Guacamole\n",
      "Gambas al Ajillo, Shrimp Fried Rice, Khao Neeo Mamuang\n",
      "Gambas al Ajillo, Paratha, Crème Brûlée\n",
      "Gambas al Ajillo, Paratha, Guacamole\n",
      "Gambas al Ajillo, Paratha, Khao Neeo Mamuang\n",
      "Gambas al Ajillo, Crème Brûlée, Guacamole\n",
      "Gambas al Ajillo, Crème Brûlée, Khao Neeo Mamuang\n",
      "Gambas al Ajillo, Guacamole, Khao Neeo Mamuang\n",
      "Miso Soup, Gourmet Mushroom Risotto, Shrimp Fried Rice\n",
      "Miso Soup, Gourmet Mushroom Risotto, Paratha\n",
      "Miso Soup, Gourmet Mushroom Risotto, Crème Brûlée\n",
      "Miso Soup, Gourmet Mushroom Risotto, Guacamole\n",
      "Miso Soup, Gourmet Mushroom Risotto, Khao Neeo Mamuang\n",
      "Miso Soup, Shrimp Fried Rice, Paratha\n",
      "Miso Soup, Shrimp Fried Rice, Crème Brûlée\n",
      "Miso Soup, Shrimp Fried Rice, Guacamole\n",
      "Miso Soup, Shrimp Fried Rice, Khao Neeo Mamuang\n",
      "Miso Soup, Paratha, Crème Brûlée\n",
      "Miso Soup, Paratha, Guacamole\n",
      "Miso Soup, Paratha, Khao Neeo Mamuang\n",
      "Miso Soup, Crème Brûlée, Guacamole\n",
      "Miso Soup, Crème Brûlée, Khao Neeo Mamuang\n",
      "Miso Soup, Guacamole, Khao Neeo Mamuang\n",
      "Gourmet Mushroom Risotto, Shrimp Fried Rice, Paratha\n",
      "Gourmet Mushroom Risotto, Shrimp Fried Rice, Crème Brûlée\n",
      "Gourmet Mushroom Risotto, Shrimp Fried Rice, Guacamole\n",
      "Gourmet Mushroom Risotto, Shrimp Fried Rice, Khao Neeo Mamuang\n",
      "Gourmet Mushroom Risotto, Paratha, Crème Brûlée\n",
      "Gourmet Mushroom Risotto, Paratha, Guacamole\n",
      "Gourmet Mushroom Risotto, Paratha, Khao Neeo Mamuang\n",
      "Gourmet Mushroom Risotto, Crème Brûlée, Guacamole\n",
      "Gourmet Mushroom Risotto, Crème Brûlée, Khao Neeo Mamuang\n",
      "Gourmet Mushroom Risotto, Guacamole, Khao Neeo Mamuang\n",
      "Shrimp Fried Rice, Paratha, Crème Brûlée\n",
      "Shrimp Fried Rice, Paratha, Guacamole\n",
      "Shrimp Fried Rice, Paratha, Khao Neeo Mamuang\n",
      "Shrimp Fried Rice, Crème Brûlée, Guacamole\n",
      "Shrimp Fried Rice, Crème Brûlée, Khao Neeo Mamuang\n",
      "Shrimp Fried Rice, Guacamole, Khao Neeo Mamuang\n",
      "Paratha, Crème Brûlée, Guacamole\n",
      "Paratha, Crème Brûlée, Khao Neeo Mamuang\n",
      "Paratha, Guacamole, Khao Neeo Mamuang\n",
      "Crème Brûlée, Guacamole, Khao Neeo Mamuang\n"
     ]
    }
   ],
   "source": [
    "#testing                        \n",
    "suggest_servings_combos(cookbook) "
   ]
  },
  {
   "cell_type": "code",
   "execution_count": 17,
   "metadata": {},
   "outputs": [
    {
     "name": "stdout",
     "output_type": "stream",
     "text": [
      "Please enter the number of recipes you would like to create: 2\n",
      "Please enter the maximum number of servings you would like to make: 5\n",
      "There are no possible recipe combinations to stay under your servings limit.\n"
     ]
    }
   ],
   "source": [
    "suggest_servings_combos(cookbook)"
   ]
  },
  {
   "cell_type": "code",
   "execution_count": 18,
   "metadata": {},
   "outputs": [
    {
     "name": "stdout",
     "output_type": "stream",
     "text": [
      "Please enter the number of recipes you would like to create: four\n"
     ]
    },
    {
     "data": {
      "text/plain": [
       "'The input you entered for number of recipes not a number. Please try again and enter a number.'"
      ]
     },
     "execution_count": 18,
     "metadata": {},
     "output_type": "execute_result"
    }
   ],
   "source": [
    "suggest_servings_combos(cookbook)"
   ]
  },
  {
   "cell_type": "code",
   "execution_count": 19,
   "metadata": {},
   "outputs": [
    {
     "name": "stdout",
     "output_type": "stream",
     "text": [
      "Please enter the number of recipes you would like to create: 3\n",
      "Please enter the maximum number of servings you would like to make: five\n"
     ]
    },
    {
     "data": {
      "text/plain": [
       "'The input you entered for servings is not a number. Please try again and enter a number.'"
      ]
     },
     "execution_count": 19,
     "metadata": {},
     "output_type": "execute_result"
    }
   ],
   "source": [
    "suggest_servings_combos(cookbook)"
   ]
  },
  {
   "cell_type": "code",
   "execution_count": 20,
   "metadata": {},
   "outputs": [
    {
     "name": "stdout",
     "output_type": "stream",
     "text": [
      "Please enter the number of recipes you would like to create: 2\n",
      "Please enter the maximum number of servings you would like to make: 8\n",
      "Some possible recipe combinations to stay under your servings limit are as follows:\n",
      "Grilled Cheese Sandwich, Bulgogi\n",
      "Grilled Cheese Sandwich, Gambas al Ajillo\n",
      "Grilled Cheese Sandwich, Miso Soup\n",
      "Grilled Cheese Sandwich, Gourmet Mushroom Risotto\n",
      "Grilled Cheese Sandwich, Shrimp Fried Rice\n",
      "Grilled Cheese Sandwich, Crème Brûlée\n",
      "Grilled Cheese Sandwich, Guacamole\n",
      "Grilled Cheese Sandwich, Khao Neeo Mamuang\n",
      "Gambas al Ajillo, Miso Soup\n",
      "Gambas al Ajillo, Shrimp Fried Rice\n",
      "Gambas al Ajillo, Crème Brûlée\n",
      "Gambas al Ajillo, Guacamole\n",
      "Gambas al Ajillo, Khao Neeo Mamuang\n",
      "Miso Soup, Shrimp Fried Rice\n",
      "Miso Soup, Crème Brûlée\n",
      "Miso Soup, Guacamole\n",
      "Miso Soup, Khao Neeo Mamuang\n",
      "Shrimp Fried Rice, Crème Brûlée\n",
      "Shrimp Fried Rice, Guacamole\n",
      "Shrimp Fried Rice, Khao Neeo Mamuang\n",
      "Crème Brûlée, Guacamole\n",
      "Crème Brûlée, Khao Neeo Mamuang\n",
      "Guacamole, Khao Neeo Mamuang\n"
     ]
    }
   ],
   "source": [
    "suggest_servings_combos(cookbook)"
   ]
  }
 ],
 "metadata": {
  "kernelspec": {
   "display_name": "Python 3",
   "language": "python",
   "name": "python3"
  },
  "language_info": {
   "codemirror_mode": {
    "name": "ipython",
    "version": 3
   },
   "file_extension": ".py",
   "mimetype": "text/x-python",
   "name": "python",
   "nbconvert_exporter": "python",
   "pygments_lexer": "ipython3",
   "version": "3.8.3"
  }
 },
 "nbformat": 4,
 "nbformat_minor": 4
}
